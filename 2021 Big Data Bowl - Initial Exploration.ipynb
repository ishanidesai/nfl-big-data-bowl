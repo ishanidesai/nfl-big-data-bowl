{
 "cells": [
  {
   "cell_type": "code",
   "execution_count": 23,
   "metadata": {},
   "outputs": [],
   "source": [
    "import pandas as pd\n",
    "pd.set_option('display.max_columns', None)\n",
    "import matplotlib.pyplot as plt\n",
    "import math\n",
    "from math import hypot\n",
    "import seaborn as sns\n",
    "import xgboost as xgb\n",
    "from xgboost import XGBClassifier"
   ]
  },
  {
   "cell_type": "markdown",
   "metadata": {},
   "source": [
    "# NFL 2021 Big Data Bowl"
   ]
  },
  {
   "cell_type": "markdown",
   "metadata": {},
   "source": [
    "## Get Data"
   ]
  },
  {
   "cell_type": "code",
   "execution_count": 31,
   "metadata": {},
   "outputs": [],
   "source": [
    "plays = pd.read_csv(r\"/Users/ishanidesai/Documents/sports_analytics/nfl-big-data-bowl-2021/plays.csv\")\n",
    "week1 = pd.read_csv(r\"/Users/ishanidesai/Documents/sports_analytics/nfl-big-data-bowl-2021/week1.csv\")\n",
    "\n",
    "# JOINING WEEK 1 TRACKING DATA AND PLAY DATA\n",
    "week1_tracking = plays.merge(week1, how = 'inner', on=['gameId', 'playId'], sort=False)\n",
    "\n",
    "cols = ['gameId', 'playId', 'quarter', 'down', 'yardsToGo', 'playType', 'defendersInTheBox', 'numberOfPassRushers', 'personnelD', 'isDefensivePI', 'passResult', 'time', 'x', 'y', 's', 'a', 'dis', 'event', 'nflId', 'displayName', 'jerseyNumber', 'position', 'frameId', 'team', 'playDirection', 'route']\n",
    "week1_tracking = week1_tracking[cols]\n"
   ]
  },
  {
   "cell_type": "markdown",
   "metadata": {},
   "source": [
    "## Combining Tracking Data w/ Week 1 Data"
   ]
  },
  {
   "cell_type": "code",
   "execution_count": 32,
   "metadata": {},
   "outputs": [
    {
     "name": "stdout",
     "output_type": "stream",
     "text": [
      "[2018090600 2018090906 2018090907 2018090903 2018090901 2018090902\n",
      " 2018090900 2018090905 2018090909 2018090910 2018090912 2018091000\n",
      " 2018091001]\n",
      "(13354, 26)\n"
     ]
    },
    {
     "name": "stderr",
     "output_type": "stream",
     "text": [
      "/usr/local/lib/python3.7/site-packages/ipykernel_launcher.py:6: SettingWithCopyWarning: \n",
      "A value is trying to be set on a copy of a slice from a DataFrame.\n",
      "Try using .loc[row_indexer,col_indexer] = value instead\n",
      "\n",
      "See the caveats in the documentation: https://pandas.pydata.org/pandas-docs/stable/user_guide/indexing.html#returning-a-view-versus-a-copy\n",
      "  \n",
      "/usr/local/lib/python3.7/site-packages/ipykernel_launcher.py:7: SettingWithCopyWarning: \n",
      "A value is trying to be set on a copy of a slice from a DataFrame.\n",
      "Try using .loc[row_indexer,col_indexer] = value instead\n",
      "\n",
      "See the caveats in the documentation: https://pandas.pydata.org/pandas-docs/stable/user_guide/indexing.html#returning-a-view-versus-a-copy\n",
      "  import sys\n",
      "/usr/local/lib/python3.7/site-packages/ipykernel_launcher.py:8: SettingWithCopyWarning: \n",
      "A value is trying to be set on a copy of a slice from a DataFrame.\n",
      "Try using .loc[row_indexer,col_indexer] = value instead\n",
      "\n",
      "See the caveats in the documentation: https://pandas.pydata.org/pandas-docs/stable/user_guide/indexing.html#returning-a-view-versus-a-copy\n",
      "  \n",
      "/usr/local/lib/python3.7/site-packages/ipykernel_launcher.py:9: SettingWithCopyWarning: \n",
      "A value is trying to be set on a copy of a slice from a DataFrame.\n",
      "Try using .loc[row_indexer,col_indexer] = value instead\n",
      "\n",
      "See the caveats in the documentation: https://pandas.pydata.org/pandas-docs/stable/user_guide/indexing.html#returning-a-view-versus-a-copy\n",
      "  if __name__ == '__main__':\n"
     ]
    },
    {
     "data": {
      "text/html": [
       "<div>\n",
       "<style scoped>\n",
       "    .dataframe tbody tr th:only-of-type {\n",
       "        vertical-align: middle;\n",
       "    }\n",
       "\n",
       "    .dataframe tbody tr th {\n",
       "        vertical-align: top;\n",
       "    }\n",
       "\n",
       "    .dataframe thead th {\n",
       "        text-align: right;\n",
       "    }\n",
       "</style>\n",
       "<table border=\"1\" class=\"dataframe\">\n",
       "  <thead>\n",
       "    <tr style=\"text-align: right;\">\n",
       "      <th></th>\n",
       "      <th>gameId</th>\n",
       "      <th>playId</th>\n",
       "      <th>quarter</th>\n",
       "      <th>down</th>\n",
       "      <th>yardsToGo</th>\n",
       "      <th>playType</th>\n",
       "      <th>defendersInTheBox</th>\n",
       "      <th>numberOfPassRushers</th>\n",
       "      <th>personnelD</th>\n",
       "      <th>isDefensivePI</th>\n",
       "      <th>passResult</th>\n",
       "      <th>time</th>\n",
       "      <th>x</th>\n",
       "      <th>y</th>\n",
       "      <th>s</th>\n",
       "      <th>a</th>\n",
       "      <th>dis</th>\n",
       "      <th>event</th>\n",
       "      <th>nflId</th>\n",
       "      <th>displayName</th>\n",
       "      <th>jerseyNumber</th>\n",
       "      <th>position</th>\n",
       "      <th>frameId</th>\n",
       "      <th>team</th>\n",
       "      <th>playDirection</th>\n",
       "      <th>route</th>\n",
       "    </tr>\n",
       "  </thead>\n",
       "  <tbody>\n",
       "    <tr>\n",
       "      <th>714</th>\n",
       "      <td>2018090600</td>\n",
       "      <td>75</td>\n",
       "      <td>1</td>\n",
       "      <td>1</td>\n",
       "      <td>15</td>\n",
       "      <td>play_type_pass</td>\n",
       "      <td>7.0</td>\n",
       "      <td>4.0</td>\n",
       "      <td>4 DL, 2 LB, 5 DB</td>\n",
       "      <td>False</td>\n",
       "      <td>C</td>\n",
       "      <td>2018-09-07T01:07:19.700Z</td>\n",
       "      <td>96.10</td>\n",
       "      <td>27.82</td>\n",
       "      <td>0.99</td>\n",
       "      <td>1.14</td>\n",
       "      <td>0.10</td>\n",
       "      <td>pass_outcome_caught</td>\n",
       "      <td>310.0</td>\n",
       "      <td>Matt Ryan</td>\n",
       "      <td>2.0</td>\n",
       "      <td>QB</td>\n",
       "      <td>52</td>\n",
       "      <td>away</td>\n",
       "      <td>left</td>\n",
       "      <td>NaN</td>\n",
       "    </tr>\n",
       "    <tr>\n",
       "      <th>715</th>\n",
       "      <td>2018090600</td>\n",
       "      <td>75</td>\n",
       "      <td>1</td>\n",
       "      <td>1</td>\n",
       "      <td>15</td>\n",
       "      <td>play_type_pass</td>\n",
       "      <td>7.0</td>\n",
       "      <td>4.0</td>\n",
       "      <td>4 DL, 2 LB, 5 DB</td>\n",
       "      <td>False</td>\n",
       "      <td>C</td>\n",
       "      <td>2018-09-07T01:07:19.700Z</td>\n",
       "      <td>81.74</td>\n",
       "      <td>49.08</td>\n",
       "      <td>7.94</td>\n",
       "      <td>2.37</td>\n",
       "      <td>0.80</td>\n",
       "      <td>pass_outcome_caught</td>\n",
       "      <td>79848.0</td>\n",
       "      <td>Malcolm Jenkins</td>\n",
       "      <td>27.0</td>\n",
       "      <td>SS</td>\n",
       "      <td>52</td>\n",
       "      <td>home</td>\n",
       "      <td>left</td>\n",
       "      <td>NaN</td>\n",
       "    </tr>\n",
       "    <tr>\n",
       "      <th>716</th>\n",
       "      <td>2018090600</td>\n",
       "      <td>75</td>\n",
       "      <td>1</td>\n",
       "      <td>1</td>\n",
       "      <td>15</td>\n",
       "      <td>play_type_pass</td>\n",
       "      <td>7.0</td>\n",
       "      <td>4.0</td>\n",
       "      <td>4 DL, 2 LB, 5 DB</td>\n",
       "      <td>False</td>\n",
       "      <td>C</td>\n",
       "      <td>2018-09-07T01:07:19.700Z</td>\n",
       "      <td>81.48</td>\n",
       "      <td>50.13</td>\n",
       "      <td>4.93</td>\n",
       "      <td>3.07</td>\n",
       "      <td>0.49</td>\n",
       "      <td>pass_outcome_caught</td>\n",
       "      <td>2495454.0</td>\n",
       "      <td>Julio Jones</td>\n",
       "      <td>11.0</td>\n",
       "      <td>WR</td>\n",
       "      <td>52</td>\n",
       "      <td>away</td>\n",
       "      <td>left</td>\n",
       "      <td>HITCH</td>\n",
       "    </tr>\n",
       "    <tr>\n",
       "      <th>717</th>\n",
       "      <td>2018090600</td>\n",
       "      <td>75</td>\n",
       "      <td>1</td>\n",
       "      <td>1</td>\n",
       "      <td>15</td>\n",
       "      <td>play_type_pass</td>\n",
       "      <td>7.0</td>\n",
       "      <td>4.0</td>\n",
       "      <td>4 DL, 2 LB, 5 DB</td>\n",
       "      <td>False</td>\n",
       "      <td>C</td>\n",
       "      <td>2018-09-07T01:07:19.700Z</td>\n",
       "      <td>81.41</td>\n",
       "      <td>19.08</td>\n",
       "      <td>4.65</td>\n",
       "      <td>2.84</td>\n",
       "      <td>0.46</td>\n",
       "      <td>pass_outcome_caught</td>\n",
       "      <td>2495613.0</td>\n",
       "      <td>Corey Graham</td>\n",
       "      <td>24.0</td>\n",
       "      <td>FS</td>\n",
       "      <td>52</td>\n",
       "      <td>home</td>\n",
       "      <td>left</td>\n",
       "      <td>NaN</td>\n",
       "    </tr>\n",
       "    <tr>\n",
       "      <th>718</th>\n",
       "      <td>2018090600</td>\n",
       "      <td>75</td>\n",
       "      <td>1</td>\n",
       "      <td>1</td>\n",
       "      <td>15</td>\n",
       "      <td>play_type_pass</td>\n",
       "      <td>7.0</td>\n",
       "      <td>4.0</td>\n",
       "      <td>4 DL, 2 LB, 5 DB</td>\n",
       "      <td>False</td>\n",
       "      <td>C</td>\n",
       "      <td>2018-09-07T01:07:19.700Z</td>\n",
       "      <td>76.75</td>\n",
       "      <td>36.60</td>\n",
       "      <td>2.82</td>\n",
       "      <td>1.85</td>\n",
       "      <td>0.28</td>\n",
       "      <td>pass_outcome_caught</td>\n",
       "      <td>2533040.0</td>\n",
       "      <td>Mohamed Sanu</td>\n",
       "      <td>12.0</td>\n",
       "      <td>WR</td>\n",
       "      <td>52</td>\n",
       "      <td>away</td>\n",
       "      <td>left</td>\n",
       "      <td>HITCH</td>\n",
       "    </tr>\n",
       "  </tbody>\n",
       "</table>\n",
       "</div>"
      ],
      "text/plain": [
       "         gameId  playId  quarter  down  yardsToGo        playType  \\\n",
       "714  2018090600      75        1     1         15  play_type_pass   \n",
       "715  2018090600      75        1     1         15  play_type_pass   \n",
       "716  2018090600      75        1     1         15  play_type_pass   \n",
       "717  2018090600      75        1     1         15  play_type_pass   \n",
       "718  2018090600      75        1     1         15  play_type_pass   \n",
       "\n",
       "     defendersInTheBox  numberOfPassRushers        personnelD  isDefensivePI  \\\n",
       "714                7.0                  4.0  4 DL, 2 LB, 5 DB          False   \n",
       "715                7.0                  4.0  4 DL, 2 LB, 5 DB          False   \n",
       "716                7.0                  4.0  4 DL, 2 LB, 5 DB          False   \n",
       "717                7.0                  4.0  4 DL, 2 LB, 5 DB          False   \n",
       "718                7.0                  4.0  4 DL, 2 LB, 5 DB          False   \n",
       "\n",
       "    passResult                      time      x      y     s     a   dis  \\\n",
       "714          C  2018-09-07T01:07:19.700Z  96.10  27.82  0.99  1.14  0.10   \n",
       "715          C  2018-09-07T01:07:19.700Z  81.74  49.08  7.94  2.37  0.80   \n",
       "716          C  2018-09-07T01:07:19.700Z  81.48  50.13  4.93  3.07  0.49   \n",
       "717          C  2018-09-07T01:07:19.700Z  81.41  19.08  4.65  2.84  0.46   \n",
       "718          C  2018-09-07T01:07:19.700Z  76.75  36.60  2.82  1.85  0.28   \n",
       "\n",
       "                   event      nflId      displayName  jerseyNumber position  \\\n",
       "714  pass_outcome_caught      310.0        Matt Ryan           2.0       QB   \n",
       "715  pass_outcome_caught    79848.0  Malcolm Jenkins          27.0       SS   \n",
       "716  pass_outcome_caught  2495454.0      Julio Jones          11.0       WR   \n",
       "717  pass_outcome_caught  2495613.0     Corey Graham          24.0       FS   \n",
       "718  pass_outcome_caught  2533040.0     Mohamed Sanu          12.0       WR   \n",
       "\n",
       "     frameId  team playDirection  route  \n",
       "714       52  away          left    NaN  \n",
       "715       52  home          left    NaN  \n",
       "716       52  away          left  HITCH  \n",
       "717       52  home          left    NaN  \n",
       "718       52  away          left  HITCH  "
      ]
     },
     "execution_count": 32,
     "metadata": {},
     "output_type": "execute_result"
    }
   ],
   "source": [
    "week1_tracking = week1_tracking.loc[week1_tracking['playType'] == 'play_type_pass']\n",
    "\n",
    "week1_games = week1['gameId'].unique()\n",
    "print(week1_games)\n",
    "week1_plays = plays[plays.gameId.isin(week1_games)]\n",
    "week1_plays['off_dist'] = -1\n",
    "week1_plays['def_dist'] = -1\n",
    "week1_plays['defender_receiver_dist'] = -1\n",
    "week1_plays['closest_defender'] = ''\n",
    "# only want plays where pass result is interception or incomplete, and only the frames where the action int/incomplete happens\n",
    "week1_plays = week1_plays[week1_plays.passResult.isin(['IN', 'I', 'C'])]\n",
    "\n",
    "week1_tracking = week1_tracking[week1_tracking.event.isin(['pass_outcome_incomplete', 'pass_outcome_interception', 'pass_outcome_caught'])]\n",
    "\n",
    "print(week1_tracking.shape)\n",
    "week1_tracking.head()\n"
   ]
  },
  {
   "cell_type": "markdown",
   "metadata": {},
   "source": [
    "## Calculate Distances between receiver/defenders, and from the ball"
   ]
  },
  {
   "cell_type": "code",
   "execution_count": 46,
   "metadata": {
    "scrolled": false
   },
   "outputs": [
    {
     "name": "stdout",
     "output_type": "stream",
     "text": [
      "['pass_outcome_caught' 'pass_outcome_incomplete'\n",
      " 'pass_outcome_interception']\n",
      "(967, 31)\n"
     ]
    }
   ],
   "source": [
    "dists = pd.DataFrame(columns=['playId', 'distance'])\n",
    "# for every play (playid), get the football x and y. find the distance between the football xy\n",
    "# get closest for home and closest for away. get distance between those 2and each player's xy\n",
    "\n",
    "print(week1_tracking.event.unique())\n",
    "\n",
    "for gameId in week1_tracking.gameId.unique():\n",
    "    game_specific = week1_tracking.loc[week1_tracking['gameId'] == gameId]\n",
    "    \n",
    "    for playId in game_specific.playId.unique():\n",
    "        # get the tracking data for players/ball in specific play\n",
    "        play_specific = game_specific.loc[game_specific['playId'] == playId]\n",
    "        \n",
    "        # get x, y coords of football\n",
    "        football = play_specific.loc[play_specific['displayName'] == 'Football']\n",
    "        football_x = football['x'].iloc[0]\n",
    "        football_y = football['y'].iloc[0]\n",
    "        \n",
    "        players = play_specific.loc[play_specific['displayName'] != 'Football']\n",
    "        \n",
    "        # figure out whether home or away team is on offense based on QB\n",
    "        offense = (play_specific.loc[play_specific['position'] == 'QB'])['team'].iloc[0]\n",
    "        \n",
    "        first_off = 1 # flags for initial offense and defense values \n",
    "        first_def = 1\n",
    "        off_dist = 0  # distance from the ball of closest receiver and defender\n",
    "        def_dist = 0\n",
    "        off_closest = 0 # rows w/ player info of closest receiver and defender\n",
    "        def_closest = 0\n",
    "        \n",
    "        # for every player in the play, calculate their distance from the football check if its the closest\n",
    "        for index, row in players.iterrows():\n",
    "            player_x = row['x']\n",
    "            player_y = row['y']\n",
    "            dist = math.hypot(football_x - player_x, football_y - player_y)\n",
    "            if ((first_off == 1) or (first_def == 1)):\n",
    "                if ((first_off == 1) or (row['team'] == offense)):\n",
    "                    first_off = 0\n",
    "                    off_closest = row\n",
    "                    off_dist = dist\n",
    "                else:\n",
    "                    first_def = 0\n",
    "                    def_closest = row\n",
    "                    def_dist = dist\n",
    "                continue\n",
    "\n",
    "            if ((row['team'] == offense) and (dist < off_dist)):\n",
    "                off_closest = row\n",
    "                off_dist = dist\n",
    "            elif ((row['team'] != offense) and (dist < def_dist)):\n",
    "                def_closest = row\n",
    "                def_dist = dist\n",
    "\n",
    "        week1_plays.loc[(week1_plays.playId == playId) & (week1_plays.gameId == gameId), 'off_dist'] = off_dist\n",
    "        week1_plays.loc[(week1_plays.playId == playId) & (week1_plays.gameId == gameId), 'def_dist'] = def_dist\n",
    "        dist = math.hypot(off_closest['x'] - def_closest['x'], off_closest['y'] - def_closest['y'])\n",
    "        week1_plays.loc[(week1_plays.playId == playId) & (week1_plays.gameId == gameId), 'defender_receiver_dist'] = dist\n",
    "        week1_plays.loc[(week1_plays.playId == playId) & (week1_plays.gameId == gameId), 'closest_defender'] = def_closest['displayName']\n",
    "        #print(gameId, playId, off_dist)\n",
    "week1_plays.head()\n",
    "print(week1_plays.shape)"
   ]
  },
  {
   "cell_type": "code",
   "execution_count": 39,
   "metadata": {},
   "outputs": [
    {
     "data": {
      "text/plain": [
       "<matplotlib.axes._subplots.AxesSubplot at 0x12e6e6a50>"
      ]
     },
     "execution_count": 39,
     "metadata": {},
     "output_type": "execute_result"
    },
    {
     "data": {
      "image/png": "[encoded data removed]",
      "text/plain": [
       "<Figure size 1440x360 with 1 Axes>"
      ]
     },
     "metadata": {
      "needs_background": "light"
     },
     "output_type": "display_data"
    }
   ],
   "source": [
    "complete_passes = week1_plays.loc[(week1_plays.defender_receiver_dist >= 0) & (week1_plays.passResult == 'C'), 'defender_receiver_dist']\n",
    "plt.figure(figsize=(20, 5))\n",
    "sns.histplot(data=complete_passes, binwidth=0.5)\n",
    "#ax = sns.boxplot(x=complete_passes)\n",
    "#ax = sns.swarmplot(x=complete_passes, color=\".25\")\n"
   ]
  },
  {
   "cell_type": "code",
   "execution_count": 38,
   "metadata": {},
   "outputs": [
    {
     "data": {
      "text/plain": [
       "<matplotlib.axes._subplots.AxesSubplot at 0x12e6380d0>"
      ]
     },
     "execution_count": 38,
     "metadata": {},
     "output_type": "execute_result"
    },
    {
     "data": {
      "image/png": "[encoded data removed]",
      "text/plain": [
       "<Figure size 1440x360 with 1 Axes>"
      ]
     },
     "metadata": {
      "needs_background": "light"
     },
     "output_type": "display_data"
    }
   ],
   "source": [
    "incomplete_passes = week1_plays.loc[(week1_plays.defender_receiver_dist >= 0) & (week1_plays.passResult != 'C'), 'defender_receiver_dist']\n",
    "plt.figure(figsize=(20, 5))\n",
    "sns.histplot(data=incomplete_passes, binwidth=0.5)\n",
    "#ax = sns.heatmap(data=incomplete_passes.defender_receiver_dist)\n",
    "#ax = sns.boxplot(x=incomplete_passes)\n",
    "#ax = sns.swarmplot(x=incomplete_passes, color=\".25\")\n"
   ]
  },
  {
   "cell_type": "code",
   "execution_count": 40,
   "metadata": {},
   "outputs": [
    {
     "data": {
      "text/plain": [
       "<matplotlib.axes._subplots.AxesSubplot at 0x12c2df290>"
      ]
     },
     "execution_count": 40,
     "metadata": {},
     "output_type": "execute_result"
    },
    {
     "data": {
      "image/png": "[encoded data removed]",
      "text/plain": [
       "<Figure size 1440x720 with 1 Axes>"
      ]
     },
     "metadata": {
      "needs_background": "light"
     },
     "output_type": "display_data"
    }
   ],
   "source": [
    "valid_passes = week1_plays.loc[(week1_plays.defender_receiver_dist >= 0)]\n",
    "#valid_passes.head()\n",
    "plt.figure(figsize=(20, 10))\n",
    "sns.histplot(data=valid_passes, x='defender_receiver_dist', binwidth=0.5, hue='passResult', multiple='dodge')\n"
   ]
  },
  {
   "cell_type": "code",
   "execution_count": 44,
   "metadata": {},
   "outputs": [
    {
     "data": {
      "text/plain": [
       "array(['Malcolm Jenkins', 'Jordan Hicks', 'Sidney Jones', 'Ronald Darby',\n",
       "       'Robert Alford', 'Ricardo Allen', 'Nate Gerry', 'Rodney McLeod',\n",
       "       'Corey Graham', \"De'Vondre Campbell\", 'Brian Poole', 'Deion Jones',\n",
       "       'Duke Riley', 'Vic Beasley', 'Desmond Trufant', 'Jalen Mills',\n",
       "       'Keanu Neal', 'Rasul Douglas', 'Christian Kirksey', 'Joe Schobert',\n",
       "       'Jon Bostic', 'Mike Hilton', 'Jamie Collins', 'Denzel Ward',\n",
       "       'Vince Williams', 'Joe Haden', 'Briean Boddy-Calhoun',\n",
       "       'Derrick Kindred', 'Damarious Randall', 'T.J. Watt',\n",
       "       'Terrance Mitchell', 'Jabrill Peppers', 'Sean Davis',\n",
       "       'Terrell Edmunds', 'Artie Burns', 'Bud Dupree', 'Cameron Sutton',\n",
       "       'Kenny Moore', 'Preston Brown', 'Nate Hairston', 'Malik Hooker',\n",
       "       'Clayton Geathers', 'Dre Kirkpatrick', 'Darqueze Dennard',\n",
       "       'Jordan Evans', 'Clayton Fejedelem', 'Anthony Walker',\n",
       "       'Quincy Wilson', 'William Jackson', 'Darius Leonard',\n",
       "       'Jessie Bates', 'Nick Vigil', 'Hardy Nickerson', 'Najee Goode',\n",
       "       'Jerome Baker', 'Xavien Howard', 'Minkah Fitzpatrick',\n",
       "       'Bobby McCain', 'Kamalei Correa', 'Malcolm Butler',\n",
       "       'Raekwon McMillan', 'Kiko Alonso', 'T.J. McDonald',\n",
       "       \"Adoree' Jackson\", 'Logan Ryan', 'Kevin Byard', 'Jayon Brown',\n",
       "       'Brian Orakpo', 'LeShaun Sims', 'Kenny Vaccaro',\n",
       "       'Tremaine Edmunds', 'Matt Milano', 'Phillip Gaines', 'Micah Hyde',\n",
       "       'Jordan Poyer', 'Tavon Young', \"Tre'Davious White\",\n",
       "       'Tony Jefferson', 'Terrell Suggs', 'Eric Weddle',\n",
       "       'Lorenzo Alexander', 'Marlon Humphrey', 'Taron Johnson',\n",
       "       'Kenny Young', 'Rafael Bush', 'Patrick Onwuasor', 'Matt Judon',\n",
       "       \"Za'Darius Smith\", 'Tyus Bowser', 'C.J. Mosley', 'Chuck Clark',\n",
       "       'Anthony Averett', 'Maurice Canady', 'Zach Cunningham',\n",
       "       'Eric Rowe', 'Devin McCourty', 'Johnathan Joseph', 'Kyle Van Noy',\n",
       "       'Duron Harmon', 'Jonathan Jones', 'Tyrann Mathieu',\n",
       "       'Whitney Mercilus', 'Justin Reid', 'Benardrick McKinney',\n",
       "       'Kevin Johnson', 'Stephon Gilmore', 'Aaron Colvin', 'Dylan Cole',\n",
       "       \"Ja'Whaun Bentley\", \"Dont'a Hightower\", 'Elandon Roberts',\n",
       "       'Jason McCourty', 'Janoris Jenkins', 'Eli Apple', 'Alec Ogletree',\n",
       "       'Jalen Ramsey', 'Landon Collins', 'A.J. Bouye', 'D.J. Hayden',\n",
       "       'Tashaun Gipson', 'Kareem Martin', 'Ray-Ray Armstrong',\n",
       "       'Michael Thomas', 'Lerentee McCray', 'Telvin Smith',\n",
       "       'Curtis Riley', 'Myles Jack', 'B.W. Webb', 'Lorenzo Carter',\n",
       "       'Carlton Davis', 'Kwon Alexander', 'Lavonte David', 'Ken Crawley',\n",
       "       'Marcus Williams', 'Vernon Hargreaves', 'Demario Davis',\n",
       "       'Marshon Lattimore', 'Vonn Bell', 'M.J. Stewart',\n",
       "       'Patrick Robinson', 'Alex Anzalone', \"Manti Te'o\", 'Justin Evans',\n",
       "       'Ryan Smith', 'Budda Baker', 'Jamar Taylor', 'Antoine Bethea',\n",
       "       'Quinton Dunbar', 'Josh Norman', 'Deone Bucannon', 'Ryan Kerrigan',\n",
       "       'D.J. Swearinger', 'Haason Reddick', 'Josh Bynes', 'Fabian Moreau',\n",
       "       'Preston Smith', 'Tre Boston', 'Josh Harvey-Clemons', 'Zach Brown',\n",
       "       'Mason Foster', 'Ryan Anderson', 'Zach Vigil', 'Montae Nicholson',\n",
       "       'Chidobe Awuzie', 'Mike Adams', 'Luke Kuechly', \"Da'Norris Searcy\",\n",
       "       'Damien Wilson', 'Kavon Frazier', 'Anthony Brown',\n",
       "       'James Bradberry', 'Jeff Heath', 'Jaylon Smith', 'Byron Jones',\n",
       "       'Shaq Thompson', 'Donte Jackson', 'Prince Amukamara',\n",
       "       'Kyle Fuller', 'Danny Trevathan', 'Josh Jackson',\n",
       "       'Jaire Alexander', 'Kevin King', 'Kentrell Brice',\n",
       "       'Nick Kwiatkoski', 'Tramon Williams', 'Eddie Jackson',\n",
       "       'Jermaine Whitehead', 'Blake Martinez', 'Bryce Callahan',\n",
       "       'Adrian Amos', 'Leonard Floyd', 'Ha Ha Clinton-Dix',\n",
       "       'Reggie Gilbert', 'Quandre Diggs', 'Devon Kennard', 'Tavon Wilson',\n",
       "       'Darius Slay', 'Nevin Lawson', 'Morris Claiborne', 'Jarrad Davis',\n",
       "       'Buster Skrine', 'Darron Lee', 'Trumaine Johnson',\n",
       "       'Doug Middleton', 'Darryl Roberts', 'Jamal Adams',\n",
       "       'Christian Jones', 'Parry Nickerson', 'Jordan Jenkins',\n",
       "       'Neville Hewitt', 'Frankie Luvu', 'Avery Williamson',\n",
       "       'Ramik Wilson', 'Cory Littleton', 'Rashaan Melvin',\n",
       "       'Samson Ebukam', 'Marcus Peters', 'Gareon Conley', 'Reggie Nelson',\n",
       "       'Derrick Johnson', 'Aqib Talib', 'John Johnson', 'Lamarcus Joyner',\n",
       "       'Nickell Robey-Coleman', 'Tahir Whitehead', 'Marqui Christian',\n",
       "       'Leon Hall', 'Marcus Gilchrist', 'Marquel Lee'], dtype=object)"
      ]
     },
     "execution_count": 44,
     "metadata": {},
     "output_type": "execute_result"
    }
   ],
   "source": [
    "defenders = valid_passes.closest_defender.unique()\n",
    "defenders"
   ]
  },
  {
   "cell_type": "code",
   "execution_count": null,
   "metadata": {},
   "outputs": [],
   "source": []
  }
 ],
 "metadata": {
  "kernelspec": {
   "display_name": "Python 3",
   "language": "python",
   "name": "python3"
  },
  "language_info": {
   "codemirror_mode": {
    "name": "ipython",
    "version": 3
   },
   "file_extension": ".py",
   "mimetype": "text/x-python",
   "name": "python",
   "nbconvert_exporter": "python",
   "pygments_lexer": "ipython3",
   "version": "3.7.7"
  }
 },
 "nbformat": 4,
 "nbformat_minor": 4
}
